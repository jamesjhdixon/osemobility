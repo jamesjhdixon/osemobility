{
 "cells": [
  {
   "cell_type": "code",
   "execution_count": 72,
   "id": "initial_id",
   "metadata": {
    "collapsed": true,
    "ExecuteTime": {
     "end_time": "2024-07-02T11:55:20.912440800Z",
     "start_time": "2024-07-02T11:55:20.893351200Z"
    }
   },
   "outputs": [],
   "source": [
    "import pandas as pd\n",
    "import matplotlib.pyplot as plt\n",
    "import seaborn as sns\n",
    "sns.set_style('whitegrid')"
   ]
  },
  {
   "cell_type": "code",
   "execution_count": 73,
   "outputs": [
    {
     "data": {
      "text/plain": "     Continent Country name ISO Alpha-2 code ISO Alpha-3 code  \\\n0       Africa       Angola               AO              AGO   \n1       Africa       Angola               AO              AGO   \n2       Africa       Angola               AO              AGO   \n3       Africa       Angola               AO              AGO   \n4       Africa       Angola               AO              AGO   \n...        ...          ...              ...              ...   \n2477    Africa     Zimbabwe               ZW              ZWE   \n2478    Africa     Zimbabwe               ZW              ZWE   \n2479    Africa     Zimbabwe               ZW              ZWE   \n2480    Africa     Zimbabwe               ZW              ZWE   \n2481    Africa     Zimbabwe               ZW              ZWE   \n\n      Numeric country code           Variable   Type  Sub-type      Fuel  \\\n0                       24         Population    All        ..        ..   \n1                       24         Population  Urban        ..        ..   \n2                       24         Population  Rural        ..        ..   \n3                       24  Population growth    All        ..        ..   \n4                       24                GDP    All        ..        ..   \n...                    ...                ...    ...       ...       ...   \n2477                   716   Energy intensity   Road  Minibus     Petrol   \n2478                   716        Load factor   Road       Car  Electric   \n2479                   716        Load factor   Road       Car    Hybrid   \n2480                   716        Load factor   Road       Car    Petrol   \n2481                   716        Load factor   Road   Minibus    Petrol   \n\n     Destination  ...          2012          2013          2014          2015  \\\n0             ..  ...     25.107925     26.015786     26.941773     27.884380   \n1             ..  ...     61.268000     62.002000     62.731000     63.446000   \n2             ..  ...     38.732000     37.998000     37.269000     36.554000   \n3             ..  ...      3.597755      3.551997      3.497447      3.438869   \n4             ..  ...  78545.742323  82433.756566  86407.063631  87219.290029   \n...          ...  ...           ...           ...           ...           ...   \n2477       Urban  ...           NaN      0.660000           NaN           NaN   \n2478       Urban  ...           NaN      1.400000           NaN           NaN   \n2479       Urban  ...           NaN      1.400000           NaN           NaN   \n2480       Urban  ...           NaN      1.400000           NaN           NaN   \n2481       Urban  ...           NaN      7.800000           NaN           NaN   \n\n              2016          2017          2018          2019          2020  \\\n0        28.842482     29.816769     30.809787     31.825299     32.866268   \n1        64.149000     64.839000     65.514000     66.177000     66.825000   \n2        35.851000     35.161000     34.486000     33.823000     33.175000   \n3         3.378269      3.322158      3.276145      3.242914      3.218530   \n4     84969.032349  84841.578801  83724.798831  83138.725241  78566.095350   \n...            ...           ...           ...           ...           ...   \n2477           NaN           NaN           NaN           NaN           NaN   \n2478           NaN           NaN           NaN           NaN           NaN   \n2479           NaN           NaN           NaN           NaN           NaN   \n2480           NaN           NaN           NaN           NaN           NaN   \n2481           NaN           NaN           NaN           NaN           NaN   \n\n              2021  \n0        33.933611  \n1        67.460000  \n2        32.540000  \n3         3.195916  \n4     79116.058022  \n...            ...  \n2477           NaN  \n2478           NaN  \n2479           NaN  \n2480           NaN  \n2481           NaN  \n\n[2482 rows x 46 columns]",
      "text/html": "<div>\n<style scoped>\n    .dataframe tbody tr th:only-of-type {\n        vertical-align: middle;\n    }\n\n    .dataframe tbody tr th {\n        vertical-align: top;\n    }\n\n    .dataframe thead th {\n        text-align: right;\n    }\n</style>\n<table border=\"1\" class=\"dataframe\">\n  <thead>\n    <tr style=\"text-align: right;\">\n      <th></th>\n      <th>Continent</th>\n      <th>Country name</th>\n      <th>ISO Alpha-2 code</th>\n      <th>ISO Alpha-3 code</th>\n      <th>Numeric country code</th>\n      <th>Variable</th>\n      <th>Type</th>\n      <th>Sub-type</th>\n      <th>Fuel</th>\n      <th>Destination</th>\n      <th>...</th>\n      <th>2012</th>\n      <th>2013</th>\n      <th>2014</th>\n      <th>2015</th>\n      <th>2016</th>\n      <th>2017</th>\n      <th>2018</th>\n      <th>2019</th>\n      <th>2020</th>\n      <th>2021</th>\n    </tr>\n  </thead>\n  <tbody>\n    <tr>\n      <th>0</th>\n      <td>Africa</td>\n      <td>Angola</td>\n      <td>AO</td>\n      <td>AGO</td>\n      <td>24</td>\n      <td>Population</td>\n      <td>All</td>\n      <td>..</td>\n      <td>..</td>\n      <td>..</td>\n      <td>...</td>\n      <td>25.107925</td>\n      <td>26.015786</td>\n      <td>26.941773</td>\n      <td>27.884380</td>\n      <td>28.842482</td>\n      <td>29.816769</td>\n      <td>30.809787</td>\n      <td>31.825299</td>\n      <td>32.866268</td>\n      <td>33.933611</td>\n    </tr>\n    <tr>\n      <th>1</th>\n      <td>Africa</td>\n      <td>Angola</td>\n      <td>AO</td>\n      <td>AGO</td>\n      <td>24</td>\n      <td>Population</td>\n      <td>Urban</td>\n      <td>..</td>\n      <td>..</td>\n      <td>..</td>\n      <td>...</td>\n      <td>61.268000</td>\n      <td>62.002000</td>\n      <td>62.731000</td>\n      <td>63.446000</td>\n      <td>64.149000</td>\n      <td>64.839000</td>\n      <td>65.514000</td>\n      <td>66.177000</td>\n      <td>66.825000</td>\n      <td>67.460000</td>\n    </tr>\n    <tr>\n      <th>2</th>\n      <td>Africa</td>\n      <td>Angola</td>\n      <td>AO</td>\n      <td>AGO</td>\n      <td>24</td>\n      <td>Population</td>\n      <td>Rural</td>\n      <td>..</td>\n      <td>..</td>\n      <td>..</td>\n      <td>...</td>\n      <td>38.732000</td>\n      <td>37.998000</td>\n      <td>37.269000</td>\n      <td>36.554000</td>\n      <td>35.851000</td>\n      <td>35.161000</td>\n      <td>34.486000</td>\n      <td>33.823000</td>\n      <td>33.175000</td>\n      <td>32.540000</td>\n    </tr>\n    <tr>\n      <th>3</th>\n      <td>Africa</td>\n      <td>Angola</td>\n      <td>AO</td>\n      <td>AGO</td>\n      <td>24</td>\n      <td>Population growth</td>\n      <td>All</td>\n      <td>..</td>\n      <td>..</td>\n      <td>..</td>\n      <td>...</td>\n      <td>3.597755</td>\n      <td>3.551997</td>\n      <td>3.497447</td>\n      <td>3.438869</td>\n      <td>3.378269</td>\n      <td>3.322158</td>\n      <td>3.276145</td>\n      <td>3.242914</td>\n      <td>3.218530</td>\n      <td>3.195916</td>\n    </tr>\n    <tr>\n      <th>4</th>\n      <td>Africa</td>\n      <td>Angola</td>\n      <td>AO</td>\n      <td>AGO</td>\n      <td>24</td>\n      <td>GDP</td>\n      <td>All</td>\n      <td>..</td>\n      <td>..</td>\n      <td>..</td>\n      <td>...</td>\n      <td>78545.742323</td>\n      <td>82433.756566</td>\n      <td>86407.063631</td>\n      <td>87219.290029</td>\n      <td>84969.032349</td>\n      <td>84841.578801</td>\n      <td>83724.798831</td>\n      <td>83138.725241</td>\n      <td>78566.095350</td>\n      <td>79116.058022</td>\n    </tr>\n    <tr>\n      <th>...</th>\n      <td>...</td>\n      <td>...</td>\n      <td>...</td>\n      <td>...</td>\n      <td>...</td>\n      <td>...</td>\n      <td>...</td>\n      <td>...</td>\n      <td>...</td>\n      <td>...</td>\n      <td>...</td>\n      <td>...</td>\n      <td>...</td>\n      <td>...</td>\n      <td>...</td>\n      <td>...</td>\n      <td>...</td>\n      <td>...</td>\n      <td>...</td>\n      <td>...</td>\n      <td>...</td>\n    </tr>\n    <tr>\n      <th>2477</th>\n      <td>Africa</td>\n      <td>Zimbabwe</td>\n      <td>ZW</td>\n      <td>ZWE</td>\n      <td>716</td>\n      <td>Energy intensity</td>\n      <td>Road</td>\n      <td>Minibus</td>\n      <td>Petrol</td>\n      <td>Urban</td>\n      <td>...</td>\n      <td>NaN</td>\n      <td>0.660000</td>\n      <td>NaN</td>\n      <td>NaN</td>\n      <td>NaN</td>\n      <td>NaN</td>\n      <td>NaN</td>\n      <td>NaN</td>\n      <td>NaN</td>\n      <td>NaN</td>\n    </tr>\n    <tr>\n      <th>2478</th>\n      <td>Africa</td>\n      <td>Zimbabwe</td>\n      <td>ZW</td>\n      <td>ZWE</td>\n      <td>716</td>\n      <td>Load factor</td>\n      <td>Road</td>\n      <td>Car</td>\n      <td>Electric</td>\n      <td>Urban</td>\n      <td>...</td>\n      <td>NaN</td>\n      <td>1.400000</td>\n      <td>NaN</td>\n      <td>NaN</td>\n      <td>NaN</td>\n      <td>NaN</td>\n      <td>NaN</td>\n      <td>NaN</td>\n      <td>NaN</td>\n      <td>NaN</td>\n    </tr>\n    <tr>\n      <th>2479</th>\n      <td>Africa</td>\n      <td>Zimbabwe</td>\n      <td>ZW</td>\n      <td>ZWE</td>\n      <td>716</td>\n      <td>Load factor</td>\n      <td>Road</td>\n      <td>Car</td>\n      <td>Hybrid</td>\n      <td>Urban</td>\n      <td>...</td>\n      <td>NaN</td>\n      <td>1.400000</td>\n      <td>NaN</td>\n      <td>NaN</td>\n      <td>NaN</td>\n      <td>NaN</td>\n      <td>NaN</td>\n      <td>NaN</td>\n      <td>NaN</td>\n      <td>NaN</td>\n    </tr>\n    <tr>\n      <th>2480</th>\n      <td>Africa</td>\n      <td>Zimbabwe</td>\n      <td>ZW</td>\n      <td>ZWE</td>\n      <td>716</td>\n      <td>Load factor</td>\n      <td>Road</td>\n      <td>Car</td>\n      <td>Petrol</td>\n      <td>Urban</td>\n      <td>...</td>\n      <td>NaN</td>\n      <td>1.400000</td>\n      <td>NaN</td>\n      <td>NaN</td>\n      <td>NaN</td>\n      <td>NaN</td>\n      <td>NaN</td>\n      <td>NaN</td>\n      <td>NaN</td>\n      <td>NaN</td>\n    </tr>\n    <tr>\n      <th>2481</th>\n      <td>Africa</td>\n      <td>Zimbabwe</td>\n      <td>ZW</td>\n      <td>ZWE</td>\n      <td>716</td>\n      <td>Load factor</td>\n      <td>Road</td>\n      <td>Minibus</td>\n      <td>Petrol</td>\n      <td>Urban</td>\n      <td>...</td>\n      <td>NaN</td>\n      <td>7.800000</td>\n      <td>NaN</td>\n      <td>NaN</td>\n      <td>NaN</td>\n      <td>NaN</td>\n      <td>NaN</td>\n      <td>NaN</td>\n      <td>NaN</td>\n      <td>NaN</td>\n    </tr>\n  </tbody>\n</table>\n<p>2482 rows × 46 columns</p>\n</div>"
     },
     "execution_count": 73,
     "metadata": {},
     "output_type": "execute_result"
    }
   ],
   "source": [
    "tdsk = pd.read_excel(f'./../data/TSDK_ALL.xlsx')\n",
    "tdsk"
   ],
   "metadata": {
    "collapsed": false,
    "ExecuteTime": {
     "end_time": "2024-07-02T11:55:22.340899600Z",
     "start_time": "2024-07-02T11:55:20.898886300Z"
    }
   },
   "id": "f6d795a326d1337e"
  },
  {
   "cell_type": "code",
   "execution_count": 74,
   "outputs": [],
   "source": [
    "# list of selected countries\n",
    "countries = tdsk[tdsk['Continent'] == 'Africa']['Country name'].unique().tolist()\n",
    "\n",
    "# plot_data container\n",
    "plot_data = []\n",
    "\n",
    "for country in countries:\n",
    "    \n",
    "    # find a value for a year if it exists, and save it as a tuple for a scatter plot.\n",
    "    for year in [str(y) for y in range(1990, 2022)]:\n",
    "\n",
    "        if not tdsk[(tdsk['Country name'] == country) & (tdsk['Data code'] == 'ROAD_EQS_TOTAL')][year].empty:\n",
    "            total_road_vehicles = tdsk[(tdsk['Country name'] == country) & (tdsk['Data code'] == 'ROAD_EQS_TOTAL')][year].tolist()[0]\n",
    "            population = tdsk[(tdsk['Country name'] == country) & (tdsk['Data code'] == 'POP_TOT')][year].tolist()[0] * 1e6\n",
    "            source = tdsk[(tdsk['Country name'] == country) & (tdsk['Data code'] == 'ROAD_EQS_TOTAL')]['Citation'].tolist()[0].split(' ')[0]\n",
    "        \n",
    "            # store this data point as a tuple with data, year and source (the first word of the 'Citation' field in TDSK will do for now.\n",
    "            data = total_road_vehicles/population, int(year), f'{country}, {source}'\n",
    "    \n",
    "            plot_data.append(data)"
   ],
   "metadata": {
    "collapsed": false,
    "ExecuteTime": {
     "end_time": "2024-07-02T11:55:25.229912200Z",
     "start_time": "2024-07-02T11:55:22.329391300Z"
    }
   },
   "id": "d3f7d0c2e99f1f6e"
  },
  {
   "cell_type": "code",
   "execution_count": 75,
   "outputs": [
    {
     "data": {
      "text/plain": "Text(0.5, 1.0, 'Road vehicles per capita in TDSK')"
     },
     "execution_count": 75,
     "metadata": {},
     "output_type": "execute_result"
    }
   ],
   "source": [
    "%matplotlib qt\n",
    "fig, ax = plt.subplots()\n",
    "\n",
    "for data in plot_data:\n",
    "    ax.scatter(data[1], data[0])\n",
    "    plt.annotate(data[2], (data[1], data[0]), textcoords=\"offset points\", xytext=(0, 10), ha='center')\n",
    "    \n",
    "ax.set_ylabel('Road vehicles per capita')\n",
    "ax.set_xlabel('Year')\n",
    "\n",
    "plt.title('Road vehicles per capita in TDSK')"
   ],
   "metadata": {
    "collapsed": false,
    "ExecuteTime": {
     "end_time": "2024-07-02T11:55:29.097073200Z",
     "start_time": "2024-07-02T11:55:25.232902300Z"
    }
   },
   "id": "fcfcf185995e7602"
  }
 ],
 "metadata": {
  "kernelspec": {
   "display_name": "Python 3",
   "language": "python",
   "name": "python3"
  },
  "language_info": {
   "codemirror_mode": {
    "name": "ipython",
    "version": 2
   },
   "file_extension": ".py",
   "mimetype": "text/x-python",
   "name": "python",
   "nbconvert_exporter": "python",
   "pygments_lexer": "ipython2",
   "version": "2.7.6"
  }
 },
 "nbformat": 4,
 "nbformat_minor": 5
}
