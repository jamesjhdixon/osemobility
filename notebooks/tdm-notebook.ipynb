{
 "cells": [
  {
   "cell_type": "code",
   "execution_count": 1,
   "id": "initial_id",
   "metadata": {
    "collapsed": true,
    "ExecuteTime": {
     "end_time": "2024-05-02T14:30:40.196150300Z",
     "start_time": "2024-05-02T14:30:38.186140600Z"
    }
   },
   "outputs": [],
   "source": [
    "# Development - Transport Demand Module (TDM)\n",
    "\n",
    "import pandas as pd"
   ]
  },
  {
   "cell_type": "code",
   "execution_count": 39,
   "outputs": [],
   "source": [
    "# import data - return TDSK\n",
    "def return_country_data(country='Kenya', start_year=1990, end_year=2021):\n",
    "    try:\n",
    "        df = pd.read_excel(\"https://zenodo.org/records/10406893/files/TSDK_ALL.xlsx?download=1\", sheet_name=\"Data\")\n",
    "        country_data = df[df['Country name'] == country][['Country name', 'Variable', 'Data code', 'Unit'] + [y for y in range(\n",
    "            start_year, end_year)]]\n",
    "        return country_data\n",
    "    except Exception as e:\n",
    "        return f\"an error occurred (probably the source data at URL has changed): {e}\""
   ],
   "metadata": {
    "collapsed": false,
    "ExecuteTime": {
     "end_time": "2024-05-02T15:44:26.020234600Z",
     "start_time": "2024-05-02T15:44:25.994670Z"
    }
   },
   "id": "ccfc2c6499cba290"
  },
  {
   "cell_type": "code",
   "execution_count": 40,
   "outputs": [],
   "source": [
    "# these functions return vectors of particular variables - gdp, population, etc. - the ones that are *useful* from TSDK.\n",
    "\n",
    "# return gdp per year (total) for country, for which data exists.\n",
    "def return_gdp(df):\n",
    "    gdp = pd.Series(df[df['Data code'] == 'GDP_TOT'].iloc[0])\n",
    "    return gdp.dropna()\n",
    "\n",
    "\n",
    "# return total population and share urb/rur\n",
    "def return_pop(df):\n",
    "    pop = df[df['Data code'].isin(['POP_TOT', 'POP_URB', 'POP_RUR'])]\n",
    "    return pop.dropna()\n",
    "\n",
    "\n",
    "# return pkm_road (total) for country, for which data exists. Amalgamate sources.\n",
    "def return_pkm_road(df):\n",
    "    pkm_road = (df[df['Data code'] == 'ROAD_PA_MOV'].set_index(['Country name', 'Data code']).stack().groupby\n",
    "                (level=[1, 2]).first().unstack())\n",
    "    return pkm_road\n",
    "\n",
    "\n",
    "# return pkm_rail (total) for country, for which data exists. Amalgamate sources.\n",
    "def return_pkm_rail(df):\n",
    "    pkm_road = (df[df['Data code'] == 'ROAD_PA_MOV'].set_index(['Country name', 'Data code']).stack().groupby\n",
    "                (level=[1, 2]).first().unstack())\n",
    "    return pkm_road"
   ],
   "metadata": {
    "collapsed": false,
    "ExecuteTime": {
     "end_time": "2024-05-02T15:44:28.884590500Z",
     "start_time": "2024-05-02T15:44:28.840066600Z"
    }
   },
   "id": "9d78bfa559b162de"
  },
  {
   "cell_type": "code",
   "execution_count": 41,
   "outputs": [],
   "source": [
    "# logical test as to whether there is mode split data in the TSDK\n",
    "def mode_share_test(df):\n",
    "    if  all(v in df['Data code'].tolist() for v in ['ROAD_PA_MOTORC', 'ROAD_PA_CAR', 'ROAD_PA_BUS']):\n",
    "        return True\n",
    "    else:\n",
    "        return False"
   ],
   "metadata": {
    "collapsed": false,
    "ExecuteTime": {
     "end_time": "2024-05-02T15:44:29.519287300Z",
     "start_time": "2024-05-02T15:44:29.494011200Z"
    }
   },
   "id": "d0723ba47ea7911"
  },
  {
   "cell_type": "markdown",
   "source": [],
   "metadata": {
    "collapsed": false
   },
   "id": "5de68a19dcac5f0e"
  },
  {
   "cell_type": "code",
   "execution_count": 42,
   "outputs": [],
   "source": [
    "# dictionary to hold values of mode shares by distance (pkm based) by country and mode\n",
    "mode_share_pkm = {'Kenya': {'BUS': 0.55, 'CAR': 0.2, 'MOTO': 0.1, 'WALK': 0.08, 'BIKE': 0.02, 'AIR': 0.03, 'SHIP': 0.02}}"
   ],
   "metadata": {
    "collapsed": false,
    "ExecuteTime": {
     "end_time": "2024-05-02T15:44:30.064568Z",
     "start_time": "2024-05-02T15:44:30.050226600Z"
    }
   },
   "id": "ec1ad96e2de68447"
  },
  {
   "cell_type": "code",
   "execution_count": 37,
   "outputs": [
    {
     "data": {
      "text/plain": "True"
     },
     "execution_count": 37,
     "metadata": {},
     "output_type": "execute_result"
    }
   ],
   "source": [
    "# TODO: run mode_share_test --> if true, then use data in TSDK. If false, use mode_share_km\n",
    "\n",
    "country = 'Kenya'\n",
    "\n",
    "df = return_country_data(country=country)\n",
    "\n",
    "if mode_share_test(df):\n",
    "    # do something\n",
    "    print('dream on son')\n",
    "else:\n",
    "    for mode in mode_share_pkm[country]:\n",
    "        mode_share_pkm[country][mode] * return_pkm_road(df)\n",
    "        \n",
    "        "
   ],
   "metadata": {
    "collapsed": false,
    "ExecuteTime": {
     "end_time": "2024-05-02T15:42:58.258876900Z",
     "start_time": "2024-05-02T15:42:58.227604900Z"
    }
   },
   "id": "a7ca117f19ef859a"
  }
 ],
 "metadata": {
  "kernelspec": {
   "display_name": "Python 3",
   "language": "python",
   "name": "python3"
  },
  "language_info": {
   "codemirror_mode": {
    "name": "ipython",
    "version": 2
   },
   "file_extension": ".py",
   "mimetype": "text/x-python",
   "name": "python",
   "nbconvert_exporter": "python",
   "pygments_lexer": "ipython2",
   "version": "2.7.6"
  }
 },
 "nbformat": 4,
 "nbformat_minor": 5
}
