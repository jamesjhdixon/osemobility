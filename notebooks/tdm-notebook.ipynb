{
 "cells": [
  {
   "cell_type": "code",
   "execution_count": 67,
   "id": "initial_id",
   "metadata": {
    "collapsed": true,
    "ExecuteTime": {
     "end_time": "2024-05-24T07:58:46.060708300Z",
     "start_time": "2024-05-24T07:58:46.057246900Z"
    }
   },
   "outputs": [],
   "source": [
    "import numpy as np\n",
    "import pandas as pd\n",
    "import matplotlib.pyplot as plt"
   ]
  },
  {
   "cell_type": "code",
   "execution_count": 68,
   "outputs": [],
   "source": [
    "# import data - return TDSK\n",
    "def return_tdsk(start_year=1990, end_year=2021):\n",
    "    try:\n",
    "        df = pd.read_excel(\"https://zenodo.org/records/10406893/files/TSDK_ALL.xlsx?download=1\", sheet_name=\"Data\")\n",
    "        country_data = df[['Country name', 'Variable', 'Data code', 'Unit'] + [y for y in range(\n",
    "             start_year, end_year)]]\n",
    "        return country_data\n",
    "    except Exception as e:\n",
    "        return f\"an error occurred (probably the source data at URL has changed): {e}\"\n",
    "\n",
    "# import data - return World Economic Outlook database (IMF)\n",
    "def return_weo(start_year=1990, end_year=2030):\n",
    "    try:\n",
    "        df = pd.read_excel(f\"./../data/WEOApr2024all.xlsx\")\n",
    "        country_data = df[['Country', 'WEO Subject Code', 'Subject Descriptor', 'Units'] + [y for y in range(\n",
    "             start_year, end_year)]]\n",
    "        return country_data\n",
    "    except Exception as e:\n",
    "        return f\"an error occurred (probably the source data at URL has changed): {e}\"\n"
   ],
   "metadata": {
    "collapsed": false,
    "ExecuteTime": {
     "end_time": "2024-05-24T07:58:46.111015200Z",
     "start_time": "2024-05-24T07:58:46.060708300Z"
    }
   },
   "id": "4e1b9ee6b0afe87c"
  },
  {
   "cell_type": "code",
   "execution_count": 69,
   "outputs": [],
   "source": [
    "# Function to return forecast for data - IMF\n",
    "\n",
    "def return_forecast(country, data, variables={'GDP': 'NGDPD', 'Population': 'LP'}, years=range(1990, 2030)):\n",
    "\n",
    "    # Create the dictionary\n",
    "    forecast_data = {}\n",
    "\n",
    "    for variable in variables:\n",
    "        \n",
    "        forecast_data[variable] = {}\n",
    "        \n",
    "        # Return data for this country and this subject code\n",
    "        country_data = data.loc[(data['Country'] == country) & (data['WEO Subject Code'] == variables[variable])]     \n",
    "    \n",
    "        # Add GDP values to the dictionary\n",
    "        if country_data.empty:\n",
    "            print(f\"Warning: No data found for {variable} in {country}\")\n",
    "            forecast_data[variable] = {}  \n",
    "        else:\n",
    "            forecast_data[variable] = dict(zip(years, country_data[years].values[0]))\n",
    "\n",
    "    return forecast_data"
   ],
   "metadata": {
    "collapsed": false,
    "ExecuteTime": {
     "end_time": "2024-05-24T07:58:46.111015200Z",
     "start_time": "2024-05-24T07:58:46.075725Z"
    }
   },
   "id": "8d6b351d07c9e891"
  },
  {
   "cell_type": "code",
   "execution_count": 70,
   "outputs": [],
   "source": [
    "def get_base_pkm_per_mode(df, country, year):\n",
    "    \"\"\"\n",
    "    Calculates base passenger-km by mode for a given country and year.\n",
    "\n",
    "    Args:\n",
    "        df: Pandas DataFrame containing transport data.\n",
    "        country: Name of the country (string).\n",
    "        year: Year for which base pkm is needed (int).\n",
    "    \n",
    "    Returns:\n",
    "        base_pkm_per_mode: Dictionary containing base pkm for each mode (or None).\n",
    "    \"\"\"\n",
    "    # Filter data for selected country and year\n",
    "    df = df[df['Country name'] == country]\n",
    "    \n",
    "#    print(df)\n",
    "\n",
    "    # Check for mode split data availability\n",
    "    mode_split_codes = ['ROAD_PA_MOV', 'ROAD_PA_MOTORC', 'ROAD_PA_CAR', 'ROAD_PA_BUS']\n",
    "    if len([m for m in mode_split_codes if m in df['Data code'].tolist()]) == len(mode_split_codes): # if mode split already in TSDK\n",
    "        # Extract base pkm by mode from year data\n",
    "        #base_pkm_per_mode = df[df['Data code'].isin(mode_split_codes)].iloc[0][year].to_dict()\n",
    "        base_pkm_per_mode = {'BUS': df[df['Data code'] == 'ROAD_PA_BUS'].iloc[0][year], \n",
    "                             'CAR': df[df['Data code'] == 'ROAD_PA_CAR'].iloc[0][year],\n",
    "                             'MOTO': df[df['Data code'] == 'ROAD_PA_MOTORC'].iloc[0][year]}\n",
    "    else:\n",
    "        # Use total pkm and predefined mode shares if mode split data unavailable or NaN\n",
    "        total_pkm = df[(df['Data code'] == 'ROAD_PA_MOV') & ~np.isnan(df[year])].iloc[0][year]\n",
    "        mode_share_road_pkm = {'BUS': 0.55, 'CAR': 0.2, 'MOTO': 0.1}  # arbitrary(?) data\n",
    "        base_pkm_per_mode = {mode: total_pkm * share for mode, share in mode_share_road_pkm.items()}\n",
    "\n",
    "    return base_pkm_per_mode if base_pkm_per_mode else None"
   ],
   "metadata": {
    "collapsed": false,
    "ExecuteTime": {
     "end_time": "2024-05-24T07:58:46.111015200Z",
     "start_time": "2024-05-24T07:58:46.091618900Z"
    }
   },
   "id": "9b1900963754dab6"
  },
  {
   "cell_type": "code",
   "execution_count": 71,
   "outputs": [],
   "source": [
    "def calculate_travel_demand(df, country, base_year, projection_data, elasticity_function, end_year=2030):\n",
    "  \"\"\"\n",
    "  Calculates passenger-km by mode for all years based on projections and elasticities.\n",
    "\n",
    "  Args:\n",
    "      df: Pandas DataFrame containing TDSK data.\n",
    "      country: Name of the country (string).\n",
    "      base_year: Base year for calculations (int).\n",
    "      projection_data: Dictionary containing GDP and population projections.\n",
    "      elasticity_function: Function that calculates dynamic elasticities (function).\n",
    "\n",
    "  Returns:\n",
    "      pkm_per_mode_per_year: Dictionary with pkm for each mode for all years.\n",
    "  \"\"\"\n",
    "  # Get base pkm by mode for the base year\n",
    "  base_pkm_per_mode = get_base_pkm_per_mode(df, country, base_year)\n",
    "\n",
    "  # Check if base pkm data is available\n",
    "  if not base_pkm_per_mode:\n",
    "    return None\n",
    "\n",
    "  # Initialize dictionary to store pkm by mode for all years\n",
    "  pkm_per_mode_per_year = {year: {} for year in range(base_year, end_year)}\n",
    "\n",
    "  # Iterate through years and calculate pkm for each mode\n",
    "  for year in pkm_per_mode_per_year:\n",
    "    # Get GDP and population for the current year from projections\n",
    "    gdp_current = projection_data['GDP'][year]\n",
    "    population_current = projection_data['Population'][year]\n",
    "\n",
    "    # Calculate dynamic elasticities for the current year using the function\n",
    "    gdp_elasticity, population_elasticity = elasticity_function(year)\n",
    "\n",
    "    # Calculate pkm for each mode based on base pkm, GDP, population, and elasticities\n",
    "    for mode, base_pkm in base_pkm_per_mode.items():\n",
    "      pkm_per_mode_per_year[year][mode] = base_pkm * (gdp_current / projection_data['GDP'][base_year]) ** gdp_elasticity * (population_current / projection_data['Population'][base_year]) ** population_elasticity\n",
    "\n",
    "  return pkm_per_mode_per_year"
   ],
   "metadata": {
    "collapsed": false,
    "ExecuteTime": {
     "end_time": "2024-05-24T07:58:46.142246Z",
     "start_time": "2024-05-24T07:58:46.111015200Z"
    }
   },
   "id": "ba803afad99cc685"
  },
  {
   "cell_type": "code",
   "execution_count": 72,
   "outputs": [],
   "source": [
    "# Example usage (replace with your actual elasticity function and projection data)\n",
    "def example_elasticity_function(year):\n",
    "  # Implement your logic to calculate dynamic elasticities based on year\n",
    "  # This is a placeholder example, replace with your actual function\n",
    "  return 1.2, 1.1  # Placeholder elasticity values\n",
    "\n"
   ],
   "metadata": {
    "collapsed": false,
    "ExecuteTime": {
     "end_time": "2024-05-24T07:58:46.158091700Z",
     "start_time": "2024-05-24T07:58:46.126030500Z"
    }
   },
   "id": "6c567fb05c674782"
  },
  {
   "cell_type": "code",
   "execution_count": 111,
   "outputs": [
    {
     "name": "stdout",
     "output_type": "stream",
     "text": [
      "Wales not in data!\n"
     ]
    }
   ],
   "source": [
    "# Run through example -- retrieve base year data \n",
    "\n",
    "# Return data\n",
    "tdsk_data = return_tdsk()\n",
    "imf_data = return_weo()\n",
    "\n",
    "# Input country\n",
    "country = input('Country?')\n",
    "\n",
    "if country.lower() in [l.lower() for l in tdsk_data['Country name'].unique().tolist()]:\n",
    "\n",
    "    years_with_data = []\n",
    "    \n",
    "    variables_of_interest = ['ROAD_PA_MOV']\n",
    "    \n",
    "    for year in range(min([t for t in tdsk_data.columns.tolist() if type(t) == int]), max([t for t in tdsk_data.columns.tolist() if type(t) == int])):\n",
    "    \n",
    "        if not tdsk_data[(tdsk_data['Country name'] == country) & (tdsk_data['Data code'].isin(variables_of_interest))][year].isnull().all():\n",
    "            years_with_data.append(year)\n",
    "    \n",
    "    base_year = int(input(f'Suggested base years for {country}: {years_with_data}. Base year?'))\n",
    "    end_year = 2030\n",
    "\n",
    "    forecast_data = return_forecast(country=country, data=imf_data)\n",
    "    \n",
    "    base_year_data = get_base_pkm_per_mode(df=tdsk_data, country=country, year=base_year)\n",
    "    \n",
    "    # Plot data from dictionaries\n",
    "\n",
    "    # Prepare data for plotting\n",
    "    years = []\n",
    "    car_values = []\n",
    "    moto_values = []\n",
    "    bus_values = []\n",
    "    \n",
    "    data = calculate_travel_demand(df=tdsk_data, country=country, base_year=base_year, projection_data=forecast_data, elasticity_function=example_elasticity_function)\n",
    "    \n",
    "    for year in range(base_year, end_year):  # Iterate from 2015 to 2029\n",
    "        if year in data:\n",
    "            years.append(year)\n",
    "            car_values.append(data[year]['CAR'])\n",
    "            moto_values.append(data[year]['MOTO'])\n",
    "            bus_values.append(data[year]['BUS'])\n",
    "    \n",
    "    # Create the plot\n",
    "    plt.figure(figsize=(10, 6))  # Adjust figure size as needed\n",
    "    plt.plot(years, car_values, marker='o', linestyle='-', label='CAR')\n",
    "    plt.plot(years, moto_values, marker='o', linestyle='-', label='MOTO')\n",
    "    plt.plot(years, bus_values, marker='o', linestyle='-', label='BUS')\n",
    "    \n",
    "    # Add labels and title\n",
    "    plt.xlabel('Year')\n",
    "    plt.ylabel('Passenger-km')\n",
    "    plt.title(f'Passenger-km by mode of transport ({base_year}-{end_year})')\n",
    "    plt.legend()\n",
    "    \n",
    "    # Show the plot\n",
    "    plt.grid(axis='y', linestyle='--')  # Add a grid for better readability\n",
    "    plt.show()\n",
    "    \n",
    "else:\n",
    "    print(f'{country} not in data!')"
   ],
   "metadata": {
    "collapsed": false,
    "ExecuteTime": {
     "end_time": "2024-05-24T12:07:47.993370400Z",
     "start_time": "2024-05-24T12:07:38.928680500Z"
    }
   },
   "id": "b3bde42420371cea"
  }
 ],
 "metadata": {
  "kernelspec": {
   "display_name": "Python 3",
   "language": "python",
   "name": "python3"
  },
  "language_info": {
   "codemirror_mode": {
    "name": "ipython",
    "version": 2
   },
   "file_extension": ".py",
   "mimetype": "text/x-python",
   "name": "python",
   "nbconvert_exporter": "python",
   "pygments_lexer": "ipython2",
   "version": "2.7.6"
  }
 },
 "nbformat": 4,
 "nbformat_minor": 5
}
