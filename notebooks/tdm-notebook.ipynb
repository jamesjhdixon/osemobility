{
 "cells": [
  {
   "cell_type": "code",
   "execution_count": 1,
   "id": "initial_id",
   "metadata": {
    "collapsed": true,
    "ExecuteTime": {
     "end_time": "2024-05-09T10:21:57.856390800Z",
     "start_time": "2024-05-09T10:21:55.932799300Z"
    }
   },
   "outputs": [],
   "source": [
    "# Development - Transport Demand Module (TDM)\n",
    "\n",
    "import pandas as pd"
   ]
  },
  {
   "cell_type": "code",
   "execution_count": 11,
   "outputs": [],
   "source": [
    "# import data - return TDSK\n",
    "def return_country_data(country='Kenya', start_year=1990, end_year=2021):\n",
    "    try:\n",
    "        df = pd.read_excel(\"https://zenodo.org/records/10406893/files/TSDK_ALL.xlsx?download=1\", sheet_name=\"Data\")\n",
    "        # country_data = df[df['Country name'] == country][['Country name', 'Variable', 'Data code', 'Unit'] + [y for y in range(\n",
    "        #     start_year, end_year)]]\n",
    "        country_data = df[['Country name', 'Variable', 'Data code', 'Unit'] + [y for y in range(\n",
    "             start_year, end_year)]]\n",
    "        return country_data\n",
    "    except Exception as e:\n",
    "        return f\"an error occurred (probably the source data at URL has changed): {e}\""
   ],
   "metadata": {
    "collapsed": false,
    "ExecuteTime": {
     "end_time": "2024-05-09T11:11:38.765351Z",
     "start_time": "2024-05-09T11:11:38.744760600Z"
    }
   },
   "id": "ccfc2c6499cba290"
  },
  {
   "cell_type": "code",
   "execution_count": 3,
   "outputs": [],
   "source": [
    "# these functions return vectors of particular variables - gdp, population, etc. - the ones that are *useful* from TSDK.\n",
    "\n",
    "# return gdp per year (total) for country, for which data exists.\n",
    "def return_gdp(df):\n",
    "    gdp = pd.Series(df[df['Data code'] == 'GDP_TOT'].iloc[0])\n",
    "    return gdp.dropna()\n",
    "\n",
    "\n",
    "# return total population and share urb/rur\n",
    "def return_pop(df):\n",
    "    pop = df[df['Data code'].isin(['POP_TOT', 'POP_URB', 'POP_RUR'])]\n",
    "    return pop.dropna()\n",
    "\n",
    "\n",
    "# return pkm_road (total) for country, for which data exists. Amalgamate sources.\n",
    "def return_pkm_road(df):\n",
    "    pkm_road = (df[df['Data code'] == 'ROAD_PA_MOV'].set_index(['Country name', 'Data code']).stack().groupby\n",
    "                (level=[1, 2]).first().unstack())\n",
    "    return pkm_road\n",
    "\n",
    "\n",
    "# return pkm_road (CAR) for country, for which data exists. Amalgamate sources.\n",
    "def return_pkm_car(df):\n",
    "    pkm_car = (df[df['Data code'] == 'ROAD_PA_CAR'].set_index(['Country name', 'Data code']).stack().groupby\n",
    "                (level=[1, 2]).first().unstack())\n",
    "    return pkm_car\n",
    "\n",
    "\n",
    "# return pkm_road (BUS) for country, for which data exists. Amalgamate sources.\n",
    "def return_pkm_bus(df):\n",
    "    pkm_bus = (df[df['Data code'] == 'ROAD_PA_BUS'].set_index(['Country name', 'Data code']).stack().groupby\n",
    "                (level=[1, 2]).first().unstack())\n",
    "    return pkm_bus\n",
    "\n",
    "\n",
    "# return pkm_road (MOTO) for country, for which data exists. Amalgamate sources.\n",
    "def return_pkm_moto(df):\n",
    "    pkm_moto = (df[df['Data code'] == 'ROAD_PA_MOTORC'].set_index(['Country name', 'Data code']).stack().groupby\n",
    "                (level=[1, 2]).first().unstack())\n",
    "    return pkm_moto\n",
    "\n",
    "\n",
    "# return pkm_rail (total) for country, for which data exists. Amalgamate sources.\n",
    "def return_pkm_rail(df):\n",
    "    pkm_road = (df[df['Data code'] == 'ROAD_PA_MOV'].set_index(['Country name', 'Data code']).stack().groupby\n",
    "                (level=[1, 2]).first().unstack())\n",
    "    return pkm_road"
   ],
   "metadata": {
    "collapsed": false,
    "ExecuteTime": {
     "end_time": "2024-05-09T10:21:57.887312300Z",
     "start_time": "2024-05-09T10:21:57.871395Z"
    }
   },
   "id": "9d78bfa559b162de"
  },
  {
   "cell_type": "code",
   "execution_count": 4,
   "outputs": [],
   "source": [
    "# logical test whether there is mode split data in the TSDK\n",
    "def mode_share_test(df):    \n",
    "    if all(v in df['Data code'].tolist() for v in ['ROAD_PA_MOTORC', 'ROAD_PA_CAR', 'ROAD_PA_BUS']):\n",
    "        return True\n",
    "    else:\n",
    "        return False"
   ],
   "metadata": {
    "collapsed": false,
    "ExecuteTime": {
     "end_time": "2024-05-09T10:21:57.906946100Z",
     "start_time": "2024-05-09T10:21:57.887312300Z"
    }
   },
   "id": "d0723ba47ea7911"
  },
  {
   "cell_type": "code",
   "execution_count": 5,
   "outputs": [],
   "source": [
    "# dictionary to hold values of mode shares by distance (pkm based) by country and mode\n",
    "# TODO: this is base-year data.\n",
    "mode_share_road_pkm = {'Kenya': {'BUS': 0.55, 'CAR': 0.2, 'MOTO': 0.1, 'WALK': 0.08, 'BIKE': 0.02}}"
   ],
   "metadata": {
    "collapsed": false,
    "ExecuteTime": {
     "end_time": "2024-05-09T10:21:57.973085100Z",
     "start_time": "2024-05-09T10:21:57.906946100Z"
    }
   },
   "id": "ec1ad96e2de68447"
  },
  {
   "cell_type": "code",
   "execution_count": 12,
   "outputs": [],
   "source": [
    "country = 'Kenya'\n",
    "\n",
    "df = return_country_data(country=country)        "
   ],
   "metadata": {
    "collapsed": false,
    "ExecuteTime": {
     "end_time": "2024-05-09T11:11:49.663406400Z",
     "start_time": "2024-05-09T11:11:48.066050100Z"
    }
   },
   "id": "a7ca117f19ef859a"
  },
  {
   "cell_type": "code",
   "execution_count": 7,
   "outputs": [],
   "source": [
    "# Generate dictionary of pkm\n",
    "road_pkm_by_mode = {country: {mode: None for mode in list(mode_share_road_pkm[next(iter(mode_share_road_pkm))].keys())} for country in list(mode_share_road_pkm.keys())}\n",
    "\n",
    "# run mode share test - if true, use TSDK data. If false, use mode_share_km data\n",
    "if mode_share_test(df):\n",
    "    \n",
    "    # write in data from dictionary\n",
    "    for mode in mode_share_road_pkm[country]:\n",
    "        road_pkm_by_mode[country][mode] = mode_share_road_pkm[country][mode] * return_pkm_road(df)[max([f for f in return_pkm_road(df).columns if f in range(1990,2050)])].item()  # return most recent value\n",
    "    \n",
    "    # use TSDK for car, moto and bus (this block will rarely be used in TSDK 2023 version)\n",
    "    if 'ROAD_PA_MOTORC' in df['Data code'].tolist():\n",
    "        road_pkm_by_mode[country]['MOTO'] = return_pkm_moto(df)[max([f for f in return_pkm_moto(df).columns if f in range(1990,2050)])].item() * return_pkm_road(df)[max([f for f in return_pkm_road(df).columns if f in range(1990,2050)])].item()\n",
    "    if 'ROAD_PA_BUS' in df['Data code'].tolist():\n",
    "        road_pkm_by_mode[country]['BUS'] = return_pkm_bus(df)[max([f for f in return_pkm_bus(df).columns if f in range(1990,2050)])].item() * return_pkm_road(df)[max([f for f in return_pkm_road(df).columns if f in range(1990,2050)])].item()\n",
    "    if 'ROAD_PA_CAR' in df['Data code'].tolist():\n",
    "        road_pkm_by_mode[country]['CAR'] = return_pkm_car(df)[max([f for f in return_pkm_car(df).columns if f in range(1990,2050)])].item() * return_pkm_road(df)[max([f for f in return_pkm_road(df).columns if f in range(1990,2050)])].item()\n",
    "else:\n",
    "    for mode in mode_share_road_pkm[country]:\n",
    "        road_pkm_by_mode[country][mode] = mode_share_road_pkm[country][mode] * return_pkm_road(df)[max([f for f in return_pkm_road(df).columns if f in range(1990,2050)])].item()  # return most recent value\n",
    "        \n"
   ],
   "metadata": {
    "collapsed": false,
    "ExecuteTime": {
     "end_time": "2024-05-09T10:21:59.640055800Z",
     "start_time": "2024-05-09T10:21:59.582198Z"
    }
   },
   "id": "9653f9403905ea63"
  },
  {
   "cell_type": "code",
   "execution_count": 8,
   "outputs": [
    {
     "data": {
      "text/plain": "{'Kenya': {'BUS': 28866.790887000003,\n  'CAR': 10497.014868,\n  'MOTO': 5248.507434,\n  'WALK': 4198.8059472,\n  'BIKE': 1049.7014868}}"
     },
     "execution_count": 8,
     "metadata": {},
     "output_type": "execute_result"
    }
   ],
   "source": [
    "road_pkm_by_mode"
   ],
   "metadata": {
    "collapsed": false,
    "ExecuteTime": {
     "end_time": "2024-05-09T10:21:59.659575100Z",
     "start_time": "2024-05-09T10:21:59.643069Z"
    }
   },
   "id": "837fe36fbb1028b"
  },
  {
   "cell_type": "code",
   "execution_count": 9,
   "outputs": [],
   "source": [
    "# this is from Gemini.\n",
    "\n",
    "def travel_demand_timeseries(base_pkm_mode, gdp_timeseries, population_timeseries, elasticity_gdp_mode, elasticity_pop_mode):\n",
    "  \"\"\"\n",
    "  This function calculates a timeseries of passenger-km by mode (travel demand)\n",
    "\n",
    "  Args:\n",
    "      base_pkm_mode (dict): Dictionary containing base year passenger-km for each mode (e.g., car, bus, train).\n",
    "      gdp_timeseries (pd.Series): Timeseries of GDP values.\n",
    "      population_timeseries (pd.Series): Timeseries of population values.\n",
    "      elasticity_gdp_mode (pd.DataFrame): DataFrame containing elasticity of travel demand by mode with respect to GDP for each year.\n",
    "      elasticity_pop_mode (pd.DataFrame): DataFrame containing elasticity of travel demand by mode with respect to population for each year.\n",
    "\n",
    "  Returns:\n",
    "      pd.DataFrame: Timeseries dataframe with passenger-km by mode for each year.\n",
    "  \"\"\"\n",
    "\n",
    "  # Check if dictionaries and DataFrames have matching indices (years)\n",
    "  if not (base_pkm_mode.keys() == gdp_timeseries.index).all():\n",
    "    raise ValueError(\"Base year passenger-km and GDP timeseries must have matching years (indices).\")\n",
    "  if not (base_pkm_mode.keys() == population_timeseries.index).all():\n",
    "    raise ValueError(\"Base year passenger-km and population timeseries must have matching years (indices).\")\n",
    "  if not (elasticity_gdp_mode.index == gdp_timeseries.index).all():\n",
    "    raise ValueError(\"GDP timeseries and elasticity_gdp_mode must have matching years (indices).\")\n",
    "  if not (elasticity_pop_mode.index == population_timeseries.index).all():\n",
    "    raise ValueError(\"Population timeseries and elasticity_pop_mode must have matching years (indices).\")\n",
    "\n",
    "  # Initialize empty dataframe to store results\n",
    "  timeseries_pkm_mode = pd.DataFrame(columns=base_pkm_mode.keys())\n",
    "\n",
    "  # Calculate passenger-km for each year\n",
    "  for year in base_pkm_mode.keys():\n",
    "    pkm_by_mode = {}\n",
    "    for mode, base_pkm in base_pkm_mode.items():\n",
    "      gdp_elasticity = elasticity_gdp_mode.loc[year, mode]\n",
    "      pop_elasticity = elasticity_pop_mode.loc[year, mode]\n",
    "      pkm_by_mode[mode] = base_pkm * (gdp_timeseries.loc[year] ** gdp_elasticity) * (population_timeseries.loc[year] ** pop_elasticity)\n",
    "    timeseries_pkm_mode.loc[year] = pkm_by_mode\n",
    "\n",
    "  return timeseries_pkm_mode\n"
   ],
   "metadata": {
    "collapsed": false,
    "ExecuteTime": {
     "end_time": "2024-05-09T10:33:19.611782400Z",
     "start_time": "2024-05-09T10:33:19.531571Z"
    }
   },
   "id": "95d3695222e9c1d0"
  },
  {
   "cell_type": "code",
   "execution_count": 13,
   "outputs": [
    {
     "data": {
      "text/plain": "     Country name           Variable             Data code  \\\n0          Angola         Population               POP_TOT   \n1          Angola         Population               POP_URB   \n2          Angola         Population               POP_RUR   \n3          Angola  Population growth               POP_GRO   \n4          Angola                GDP               GDP_TOT   \n...           ...                ...                   ...   \n2477     Zimbabwe   Energy intensity  NRG_EIP_MINIBUPETURB   \n2478     Zimbabwe        Load factor      NRG_LF_CARELEURB   \n2479     Zimbabwe        Load factor      NRG_LF_CARHYBURB   \n2480     Zimbabwe        Load factor      NRG_LF_CARPETURB   \n2481     Zimbabwe        Load factor   NRG_LF_MINIBUPETURB   \n\n                    Unit          1990          1991          1992  \\\n0         million people     11.848385     12.248901     12.657361   \n1                      %     37.144000     38.580000     40.039000   \n2                      %     62.856000     61.420000     59.961000   \n3                      %      3.378411      3.324465      3.280272   \n4     million USD (2015)  26557.061824  26820.337727  25254.491117   \n...                  ...           ...           ...           ...   \n2477     MJ/passenger-km           NaN           NaN           NaN   \n2478   passenger/vehicle           NaN           NaN           NaN   \n2479   passenger/vehicle           NaN           NaN           NaN   \n2480   passenger/vehicle           NaN           NaN           NaN   \n2481   passenger/vehicle           NaN           NaN           NaN   \n\n              1993          1994          1995  ...          2011  \\\n0        13.075044     13.503753     13.945205  ...     24.220660   \n1        41.511000     43.000000     44.169000  ...     60.528000   \n2        58.489000     57.000000     55.831000  ...     39.472000   \n3         3.246643      3.226227      3.216807  ...      3.634150   \n4     19197.601089  19454.726739  22372.935756  ...  72365.710633   \n...            ...           ...           ...  ...           ...   \n2477           NaN           NaN           NaN  ...           NaN   \n2478           NaN           NaN           NaN  ...           NaN   \n2479           NaN           NaN           NaN  ...           NaN   \n2480           NaN           NaN           NaN  ...           NaN   \n2481           NaN           NaN           NaN  ...           NaN   \n\n              2012          2013          2014          2015          2016  \\\n0        25.107925     26.015786     26.941773     27.884380     28.842482   \n1        61.268000     62.002000     62.731000     63.446000     64.149000   \n2        38.732000     37.998000     37.269000     36.554000     35.851000   \n3         3.597755      3.551997      3.497447      3.438869      3.378269   \n4     78545.742323  82433.756566  86407.063631  87219.290029  84969.032349   \n...            ...           ...           ...           ...           ...   \n2477           NaN      0.660000           NaN           NaN           NaN   \n2478           NaN      1.400000           NaN           NaN           NaN   \n2479           NaN      1.400000           NaN           NaN           NaN   \n2480           NaN      1.400000           NaN           NaN           NaN   \n2481           NaN      7.800000           NaN           NaN           NaN   \n\n              2017          2018          2019          2020  \n0        29.816769     30.809787     31.825299     32.866268  \n1        64.839000     65.514000     66.177000     66.825000  \n2        35.161000     34.486000     33.823000     33.175000  \n3         3.322158      3.276145      3.242914      3.218530  \n4     84841.578801  83724.798831  83138.725241  78566.095350  \n...            ...           ...           ...           ...  \n2477           NaN           NaN           NaN           NaN  \n2478           NaN           NaN           NaN           NaN  \n2479           NaN           NaN           NaN           NaN  \n2480           NaN           NaN           NaN           NaN  \n2481           NaN           NaN           NaN           NaN  \n\n[2482 rows x 35 columns]",
      "text/html": "<div>\n<style scoped>\n    .dataframe tbody tr th:only-of-type {\n        vertical-align: middle;\n    }\n\n    .dataframe tbody tr th {\n        vertical-align: top;\n    }\n\n    .dataframe thead th {\n        text-align: right;\n    }\n</style>\n<table border=\"1\" class=\"dataframe\">\n  <thead>\n    <tr style=\"text-align: right;\">\n      <th></th>\n      <th>Country name</th>\n      <th>Variable</th>\n      <th>Data code</th>\n      <th>Unit</th>\n      <th>1990</th>\n      <th>1991</th>\n      <th>1992</th>\n      <th>1993</th>\n      <th>1994</th>\n      <th>1995</th>\n      <th>...</th>\n      <th>2011</th>\n      <th>2012</th>\n      <th>2013</th>\n      <th>2014</th>\n      <th>2015</th>\n      <th>2016</th>\n      <th>2017</th>\n      <th>2018</th>\n      <th>2019</th>\n      <th>2020</th>\n    </tr>\n  </thead>\n  <tbody>\n    <tr>\n      <th>0</th>\n      <td>Angola</td>\n      <td>Population</td>\n      <td>POP_TOT</td>\n      <td>million people</td>\n      <td>11.848385</td>\n      <td>12.248901</td>\n      <td>12.657361</td>\n      <td>13.075044</td>\n      <td>13.503753</td>\n      <td>13.945205</td>\n      <td>...</td>\n      <td>24.220660</td>\n      <td>25.107925</td>\n      <td>26.015786</td>\n      <td>26.941773</td>\n      <td>27.884380</td>\n      <td>28.842482</td>\n      <td>29.816769</td>\n      <td>30.809787</td>\n      <td>31.825299</td>\n      <td>32.866268</td>\n    </tr>\n    <tr>\n      <th>1</th>\n      <td>Angola</td>\n      <td>Population</td>\n      <td>POP_URB</td>\n      <td>%</td>\n      <td>37.144000</td>\n      <td>38.580000</td>\n      <td>40.039000</td>\n      <td>41.511000</td>\n      <td>43.000000</td>\n      <td>44.169000</td>\n      <td>...</td>\n      <td>60.528000</td>\n      <td>61.268000</td>\n      <td>62.002000</td>\n      <td>62.731000</td>\n      <td>63.446000</td>\n      <td>64.149000</td>\n      <td>64.839000</td>\n      <td>65.514000</td>\n      <td>66.177000</td>\n      <td>66.825000</td>\n    </tr>\n    <tr>\n      <th>2</th>\n      <td>Angola</td>\n      <td>Population</td>\n      <td>POP_RUR</td>\n      <td>%</td>\n      <td>62.856000</td>\n      <td>61.420000</td>\n      <td>59.961000</td>\n      <td>58.489000</td>\n      <td>57.000000</td>\n      <td>55.831000</td>\n      <td>...</td>\n      <td>39.472000</td>\n      <td>38.732000</td>\n      <td>37.998000</td>\n      <td>37.269000</td>\n      <td>36.554000</td>\n      <td>35.851000</td>\n      <td>35.161000</td>\n      <td>34.486000</td>\n      <td>33.823000</td>\n      <td>33.175000</td>\n    </tr>\n    <tr>\n      <th>3</th>\n      <td>Angola</td>\n      <td>Population growth</td>\n      <td>POP_GRO</td>\n      <td>%</td>\n      <td>3.378411</td>\n      <td>3.324465</td>\n      <td>3.280272</td>\n      <td>3.246643</td>\n      <td>3.226227</td>\n      <td>3.216807</td>\n      <td>...</td>\n      <td>3.634150</td>\n      <td>3.597755</td>\n      <td>3.551997</td>\n      <td>3.497447</td>\n      <td>3.438869</td>\n      <td>3.378269</td>\n      <td>3.322158</td>\n      <td>3.276145</td>\n      <td>3.242914</td>\n      <td>3.218530</td>\n    </tr>\n    <tr>\n      <th>4</th>\n      <td>Angola</td>\n      <td>GDP</td>\n      <td>GDP_TOT</td>\n      <td>million USD (2015)</td>\n      <td>26557.061824</td>\n      <td>26820.337727</td>\n      <td>25254.491117</td>\n      <td>19197.601089</td>\n      <td>19454.726739</td>\n      <td>22372.935756</td>\n      <td>...</td>\n      <td>72365.710633</td>\n      <td>78545.742323</td>\n      <td>82433.756566</td>\n      <td>86407.063631</td>\n      <td>87219.290029</td>\n      <td>84969.032349</td>\n      <td>84841.578801</td>\n      <td>83724.798831</td>\n      <td>83138.725241</td>\n      <td>78566.095350</td>\n    </tr>\n    <tr>\n      <th>...</th>\n      <td>...</td>\n      <td>...</td>\n      <td>...</td>\n      <td>...</td>\n      <td>...</td>\n      <td>...</td>\n      <td>...</td>\n      <td>...</td>\n      <td>...</td>\n      <td>...</td>\n      <td>...</td>\n      <td>...</td>\n      <td>...</td>\n      <td>...</td>\n      <td>...</td>\n      <td>...</td>\n      <td>...</td>\n      <td>...</td>\n      <td>...</td>\n      <td>...</td>\n      <td>...</td>\n    </tr>\n    <tr>\n      <th>2477</th>\n      <td>Zimbabwe</td>\n      <td>Energy intensity</td>\n      <td>NRG_EIP_MINIBUPETURB</td>\n      <td>MJ/passenger-km</td>\n      <td>NaN</td>\n      <td>NaN</td>\n      <td>NaN</td>\n      <td>NaN</td>\n      <td>NaN</td>\n      <td>NaN</td>\n      <td>...</td>\n      <td>NaN</td>\n      <td>NaN</td>\n      <td>0.660000</td>\n      <td>NaN</td>\n      <td>NaN</td>\n      <td>NaN</td>\n      <td>NaN</td>\n      <td>NaN</td>\n      <td>NaN</td>\n      <td>NaN</td>\n    </tr>\n    <tr>\n      <th>2478</th>\n      <td>Zimbabwe</td>\n      <td>Load factor</td>\n      <td>NRG_LF_CARELEURB</td>\n      <td>passenger/vehicle</td>\n      <td>NaN</td>\n      <td>NaN</td>\n      <td>NaN</td>\n      <td>NaN</td>\n      <td>NaN</td>\n      <td>NaN</td>\n      <td>...</td>\n      <td>NaN</td>\n      <td>NaN</td>\n      <td>1.400000</td>\n      <td>NaN</td>\n      <td>NaN</td>\n      <td>NaN</td>\n      <td>NaN</td>\n      <td>NaN</td>\n      <td>NaN</td>\n      <td>NaN</td>\n    </tr>\n    <tr>\n      <th>2479</th>\n      <td>Zimbabwe</td>\n      <td>Load factor</td>\n      <td>NRG_LF_CARHYBURB</td>\n      <td>passenger/vehicle</td>\n      <td>NaN</td>\n      <td>NaN</td>\n      <td>NaN</td>\n      <td>NaN</td>\n      <td>NaN</td>\n      <td>NaN</td>\n      <td>...</td>\n      <td>NaN</td>\n      <td>NaN</td>\n      <td>1.400000</td>\n      <td>NaN</td>\n      <td>NaN</td>\n      <td>NaN</td>\n      <td>NaN</td>\n      <td>NaN</td>\n      <td>NaN</td>\n      <td>NaN</td>\n    </tr>\n    <tr>\n      <th>2480</th>\n      <td>Zimbabwe</td>\n      <td>Load factor</td>\n      <td>NRG_LF_CARPETURB</td>\n      <td>passenger/vehicle</td>\n      <td>NaN</td>\n      <td>NaN</td>\n      <td>NaN</td>\n      <td>NaN</td>\n      <td>NaN</td>\n      <td>NaN</td>\n      <td>...</td>\n      <td>NaN</td>\n      <td>NaN</td>\n      <td>1.400000</td>\n      <td>NaN</td>\n      <td>NaN</td>\n      <td>NaN</td>\n      <td>NaN</td>\n      <td>NaN</td>\n      <td>NaN</td>\n      <td>NaN</td>\n    </tr>\n    <tr>\n      <th>2481</th>\n      <td>Zimbabwe</td>\n      <td>Load factor</td>\n      <td>NRG_LF_MINIBUPETURB</td>\n      <td>passenger/vehicle</td>\n      <td>NaN</td>\n      <td>NaN</td>\n      <td>NaN</td>\n      <td>NaN</td>\n      <td>NaN</td>\n      <td>NaN</td>\n      <td>...</td>\n      <td>NaN</td>\n      <td>NaN</td>\n      <td>7.800000</td>\n      <td>NaN</td>\n      <td>NaN</td>\n      <td>NaN</td>\n      <td>NaN</td>\n      <td>NaN</td>\n      <td>NaN</td>\n      <td>NaN</td>\n    </tr>\n  </tbody>\n</table>\n<p>2482 rows × 35 columns</p>\n</div>"
     },
     "execution_count": 13,
     "metadata": {},
     "output_type": "execute_result"
    }
   ],
   "source": [
    "df"
   ],
   "metadata": {
    "collapsed": false,
    "ExecuteTime": {
     "end_time": "2024-05-09T11:11:55.072028500Z",
     "start_time": "2024-05-09T11:11:55.032701800Z"
    }
   },
   "id": "1cfcd74872042bef"
  }
 ],
 "metadata": {
  "kernelspec": {
   "display_name": "Python 3",
   "language": "python",
   "name": "python3"
  },
  "language_info": {
   "codemirror_mode": {
    "name": "ipython",
    "version": 2
   },
   "file_extension": ".py",
   "mimetype": "text/x-python",
   "name": "python",
   "nbconvert_exporter": "python",
   "pygments_lexer": "ipython2",
   "version": "2.7.6"
  }
 },
 "nbformat": 4,
 "nbformat_minor": 5
}
