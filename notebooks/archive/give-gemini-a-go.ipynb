{
 "cells": [
  {
   "cell_type": "code",
   "execution_count": 1,
   "id": "initial_id",
   "metadata": {
    "collapsed": true,
    "ExecuteTime": {
     "end_time": "2024-05-09T11:21:07.672166300Z",
     "start_time": "2024-05-09T11:21:05.905495700Z"
    }
   },
   "outputs": [],
   "source": [
    "import pandas as pd"
   ]
  },
  {
   "cell_type": "code",
   "execution_count": null,
   "outputs": [],
   "source": [
    "# Sample GDP and population projections (you'll replace this with your actual data)\n",
    "gdp_projections = {\n",
    "    'Kenya': {2021: 90000, 2022: 95000, ..., 2050: 200000}  # Million USD\n",
    "}\n",
    "population_projections = {\n",
    "    'Kenya': {2021: 55000000, 2022: 56000000, ..., 2050: 80000000}  \n",
    "}\n",
    "\n",
    "# Mode split data (replace with actual data if available)\n",
    "mode_share_road_pkm = {'Kenya': {'BUS': 0.55, 'CAR': 0.2, 'MOTO': 0.1}}"
   ],
   "metadata": {
    "collapsed": false
   },
   "id": "33ae5766dbefb0c9"
  },
  {
   "cell_type": "code",
   "execution_count": 2,
   "outputs": [],
   "source": [
    "country = input(\"Enter country name: \")  # Example: 'Kenya'"
   ],
   "metadata": {
    "collapsed": false,
    "ExecuteTime": {
     "end_time": "2024-05-09T11:33:19.776779300Z",
     "start_time": "2024-05-09T11:33:16.082361Z"
    }
   },
   "id": "9d1467bf82fc8c0b"
  },
  {
   "cell_type": "code",
   "execution_count": 3,
   "outputs": [
    {
     "data": {
      "text/plain": "'Kenya'"
     },
     "execution_count": 3,
     "metadata": {},
     "output_type": "execute_result"
    }
   ],
   "source": [
    "def get_base_pkm_per_mode(df, country):\n",
    "    \"\"\"\n",
    "    Calculates base year pkm by mode based on data availability.\n",
    "\n",
    "    Args:\n",
    "        df (pandas.DataFrame): The input DataFrame.\n",
    "        country (str): The selected country.\n",
    "\n",
    "    Returns:\n",
    "        dict: A dictionary containing base pkm per mode.\n",
    "    \"\"\"\n",
    "    base_pkm_per_mode = {}\n",
    "    modes = ['ROAD_PA_MOV', 'ROAD_PA_MOTORC', 'ROAD_PA_CAR', 'ROAD_PA_BUS']\n",
    "\n",
    "    if all(mode in df['Data code'].unique() for mode in modes): \n",
    "        # Specific mode data is available\n",
    "        for mode in modes:\n",
    "            relevant_data = df[(df['Country name'] == country) & (df['Data code'] == mode)]\n",
    "            base_year = relevant_data.columns[-1]  # Assume latest year\n",
    "            base_pkm_per_mode[mode[7:]] = relevant_data[base_year].iloc[0]  \n",
    "    else:\n",
    "        # Use total and apply arbitrary mode split\n",
    "        total_pkm_data = df[(df['Country name'] == country) & (df['Data code'] == 'ROAD_PA_MOV')]\n",
    "        base_year = total_pkm_data.columns[-1]\n",
    "        total_base_pkm = total_pkm_data[base_year].iloc[0]\n",
    "        for mode, share in mode_share_road_pkm[country].items():\n",
    "            base_pkm_per_mode[mode] = total_base_pkm * share\n",
    "\n",
    "    return base_pkm_per_mode\n",
    "\n",
    "\n",
    "def calculate_pkm_forecast(base_pkm_per_mode, gdp_projections, population_projections, country):\n",
    "    \"\"\"\n",
    "    Forecasts passenger-km by mode for a given country.\n",
    "\n",
    "    Args:\n",
    "        base_pkm_per_mode (dict): Base year pkm data.\n",
    "        gdp_projections (dict): GDP projections by country and year.\n",
    "        population_projections (dict): Population projections by country and year.\n",
    "        country (str): The selected country.\n",
    "\n",
    "    Returns:\n",
    "        dict: A nested dictionary containing pkm forecasts by mode and year.\n",
    "    \"\"\"\n",
    "    pkm_forecast = {}  \n",
    "    base_year = int(max(base_pkm_per_mode))  # Assuming base year is latest in the dictionary\n",
    "\n",
    "    for year in range(base_year + 1, 2051):\n",
    "        pkm_forecast[year] = {}\n",
    "        gdp_growth = (gdp_projections[country][year] - gdp_projections[country][year - 1]) / gdp_projections[country][year - 1]\n",
    "        pop_growth = (population_projections[country][year] - population_projections[country][year - 1]) / population_projections[country][year - 1]\n",
    "\n",
    "        # TODO: Define how you will obtain dynamic elasticities by year\n",
    "        gdp_elasticity = ... \n",
    "        pop_elasticity = ... \n",
    "\n",
    "        for mode, base_pkm in base_pkm_per_mode.items():\n",
    "            pkm_forecast[year][mode] = base_pkm * (1 + gdp_elasticity * gdp_growth) * (1 + pop_elasticity * pop_growth)\n",
    "\n",
    "    return pkm_forecast"
   ],
   "metadata": {
    "collapsed": false,
    "ExecuteTime": {
     "end_time": "2024-05-09T11:33:26.456480100Z",
     "start_time": "2024-05-09T11:33:26.440862200Z"
    }
   },
   "id": "47bb14135ab768b7"
  }
 ],
 "metadata": {
  "kernelspec": {
   "display_name": "Python 3",
   "language": "python",
   "name": "python3"
  },
  "language_info": {
   "codemirror_mode": {
    "name": "ipython",
    "version": 2
   },
   "file_extension": ".py",
   "mimetype": "text/x-python",
   "name": "python",
   "nbconvert_exporter": "python",
   "pygments_lexer": "ipython2",
   "version": "2.7.6"
  }
 },
 "nbformat": 4,
 "nbformat_minor": 5
}
