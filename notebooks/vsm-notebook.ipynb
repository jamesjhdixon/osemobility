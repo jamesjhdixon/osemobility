{
 "cells": [
  {
   "cell_type": "code",
   "execution_count": 1,
   "id": "initial_id",
   "metadata": {
    "collapsed": true,
    "ExecuteTime": {
     "end_time": "2024-07-26T11:33:53.379478100Z",
     "start_time": "2024-07-26T11:33:51.581800100Z"
    }
   },
   "outputs": [],
   "source": [
    "# Notebook for code development for vehicle stock module (vsm)\n",
    "\n",
    "import pandas as pd"
   ]
  },
  {
   "cell_type": "code",
   "execution_count": 2,
   "outputs": [],
   "source": [
    "def get_base_year_stock(df, country, year):\n",
    "    \"\"\"Retrieves vehicle stock by mode for the base year (input data).\n",
    "\n",
    "    Args:\n",
    "        df: Country data. Could be TSDK, or more detailed country-specific data.\n",
    "        country: String. E.g. \"Zambia\".\n",
    "        year: Integer. E.g. 2015.\n",
    "\n",
    "    Returns:\n",
    "        Dict with year as key and nested dict of mode:vehicles as value.\n",
    "    \"\"\"\n",
    "\n",
    "    # TODO: retrieve data from stock\n",
    "    base_year_stock = {2018: {'BUS': 1,\n",
    "                              'CAR': 1,\n",
    "                              'MOTO': 1}}\n",
    "\n",
    "    return base_year_stock()"
   ],
   "metadata": {
    "collapsed": false,
    "ExecuteTime": {
     "end_time": "2024-07-26T11:33:53.379478100Z",
     "start_time": "2024-07-26T11:33:53.350434800Z"
    }
   },
   "id": "d3621d2c137a6cd0"
  },
  {
   "cell_type": "code",
   "execution_count": 3,
   "outputs": [],
   "source": [
    "def return_country_data(country, start_year=1990, end_year=2022):\n",
    "    try:\n",
    "        df = pd.read_csv(f\"./../data/country_data/{country}/{country}.csv\")\n",
    "        country_data = df[['Country name', 'Variable', 'Type','Sub-type', 'Fuel', 'Destination', 'Data code', 'Unit'] + [str(y) for y in range(\n",
    "            start_year, end_year)]]\n",
    "        return country_data\n",
    "    except Exception as e:\n",
    "        return f\"an error occurred: {e}\""
   ],
   "metadata": {
    "collapsed": false,
    "ExecuteTime": {
     "end_time": "2024-07-26T11:33:53.379478100Z",
     "start_time": "2024-07-26T11:33:53.363769200Z"
    }
   },
   "id": "70f2b32993d2b1cb"
  },
  {
   "cell_type": "code",
   "execution_count": 4,
   "outputs": [
    {
     "data": {
      "text/plain": "   Country name               Variable              Type  \\\n0        Zambia             Population               All   \n1        Zambia             Population             Urban   \n2        Zambia             Population             Rural   \n3        Zambia                    GDP               All   \n4        Zambia     Passenger activity              Road   \n5        Zambia     Passenger activity              Rail   \n6        Zambia     Passenger activity          Aviation   \n7        Zambia       Freight activity              Road   \n8        Zambia       Freight activity              Rail   \n9        Zambia       Freight activity          Aviation   \n10       Zambia       Freight activity  Inland waterways   \n11       Zambia  Vehicle registrations              Road   \n12       Zambia  Vehicle registrations              Road   \n13       Zambia  Vehicle registrations              Road   \n14       Zambia  Vehicle registrations              Road   \n15       Zambia  Vehicle registrations              Road   \n16       Zambia  Vehicle registrations              Road   \n17       Zambia  Vehicle registrations              Road   \n18       Zambia  Vehicle registrations              Road   \n19       Zambia  Vehicle registrations              Road   \n20       Zambia  Vehicle registrations              Road   \n21       Zambia          Vehicle stock              Road   \n22          NaN                    NaN               NaN   \n\n                              Sub-type Fuel Destination  \\\n0                                   ..   ..          ..   \n1                                   ..   ..          ..   \n2                                   ..   ..          ..   \n3                                   ..   ..          ..   \n4                                  All  All         All   \n5                                  All  All         All   \n6                                  All  All         All   \n7                                  All  All         All   \n8                                  All  All         All   \n9                                  All  All         All   \n10                                 All  All         All   \n11                  Light Duty Vehicle  All         All   \n12                                 Car  All         All   \n13                             Minibus  All         All   \n14                                 Van  All         All   \n15                               Truck  All         All   \n16                                 Bus  All         All   \n17                          Motorcycle  All         All   \n18  Agricultural and forestry tractors  All         All   \n19                             Trailer  All         All   \n20                                 All  All         All   \n21                                 All  All         All   \n22                                 NaN  NaN         NaN   \n\n                 Data code                  Unit         1990         1991  \\\n0                  POP_TOT        million people     8.036849     8.246662   \n1                  POP_URB                     %    39.407000    38.989000   \n2                  POP_RUR                     %    60.593000    61.011000   \n3                  GDP_TOT    million USD (2015)  6840.844039  6838.372211   \n4              ROAD_PA_MOV  million passenger-km          NaN          NaN   \n5            RAIL_PA_TOTAL  million passenger-km          NaN          NaN   \n6                AVIA_PAOC  million passenger-km          NaN          NaN   \n7              ROAD_GO_NAT         milion ton-km          NaN          NaN   \n8            RAIL_GO_TOTAL         milion ton-km          NaN          NaN   \n9                AVIA_GONC         milion ton-km          NaN          NaN   \n10              IWW_GO_NAT         milion ton-km          NaN          NaN   \n11      ROAD_STOCK_NEW_LDV                     n          NaN          NaN   \n12      ROAD_STOCK_NEW_CAR                     n          NaN          NaN   \n13  ROAD_STOCK_NEW_MINIBUS                     n          NaN          NaN   \n14      ROAD_STOCK_NEW_VAN                     n          NaN          NaN   \n15    ROAD_STOCK_NEW_TRUCK                     n          NaN          NaN   \n16      ROAD_STOCK_NEW_BUS                     n          NaN          NaN   \n17     ROAD_STOCK_NEW_MOTO                     n          NaN          NaN   \n18     ROAD_STOCK_NEW_AGRI                     n          NaN          NaN   \n19  ROAD_STOCK_NEW_TRAILER                     n          NaN          NaN   \n20      ROAD_STOCK_NEW_ALL                     n          NaN          NaN   \n21      ROAD_STOCK_CUM_ALL                     n          NaN          NaN   \n22                     NaN                   NaN          NaN          NaN   \n\n    ...           2012           2013           2014          2015  \\\n0   ...      14.465148      14.926551      15.399793      15.87937   \n1   ...      40.354000      40.865000      41.382000      41.90700   \n2   ...      59.646000      59.135000      58.618000      58.09300   \n3   ...   18772.328030   19721.688160   20648.211570   21251.21680   \n4   ...            NaN            NaN            NaN           NaN   \n5   ...            NaN            NaN            NaN           NaN   \n6   ...            NaN            NaN            NaN           NaN   \n7   ...            NaN            NaN            NaN           NaN   \n8   ...            NaN            NaN            NaN           NaN   \n9   ...            NaN            NaN            NaN           NaN   \n10  ...            NaN            NaN            NaN           NaN   \n11  ...            NaN            NaN            NaN   38960.00000   \n12  ...            NaN            NaN            NaN   35192.00000   \n13  ...            NaN            NaN            NaN    3768.00000   \n14  ...            NaN            NaN            NaN    5697.00000   \n15  ...            NaN            NaN            NaN    6040.00000   \n16  ...            NaN            NaN            NaN     650.00000   \n17  ...            NaN            NaN            NaN    2681.00000   \n18  ...            NaN            NaN            NaN       7.00000   \n19  ...            NaN            NaN            NaN    2243.00000   \n20  ...            NaN            NaN            NaN   56278.00000   \n21  ...  528584.000000  534523.000000  605043.000000  661617.00000   \n22  ...            NaN            NaN            NaN           NaN   \n\n             2016           2017           2018           2019           2020  \\\n0       16.363449      16.853608      17.351714      17.861034      18.383956   \n1       42.438000      42.976000      43.521000      44.072000      44.629000   \n2       57.562000      57.024000      56.479000      55.928000      55.371000   \n3    22053.807070   22826.646590   23747.586260   24089.861650   23418.945740   \n4             NaN            NaN   17857.358560            NaN            NaN   \n5             NaN            NaN       0.005819            NaN            NaN   \n6             NaN      67.974233       2.409456            NaN            NaN   \n7             NaN            NaN    5234.542507            NaN            NaN   \n8             NaN            NaN    1053.158810            NaN            NaN   \n9             NaN      81.557610      75.077398            NaN            NaN   \n10            NaN            NaN      13.315112            NaN            NaN   \n11   19787.000000   25542.000000   26827.000000   23640.000000   18893.000000   \n12   17852.000000   22913.000000   24044.000000   21256.000000   17203.000000   \n13    1935.000000    2629.000000    2783.000000    2384.000000    1690.000000   \n14    4358.000000    4695.000000    4825.000000    3422.000000    2612.000000   \n15    3854.000000    5597.000000    8189.000000    6999.000000    5615.000000   \n16     514.000000     727.000000     861.000000     836.000000     483.000000   \n17    2597.000000    1908.000000    2245.000000    2634.000000    2290.000000   \n18       4.000000       6.000000       1.000000       0.000000       0.000000   \n19    1585.000000    1066.000000    2074.000000    2228.000000    1651.000000   \n20   32699.000000   39541.000000   45022.000000   39759.000000   31544.000000   \n21  686103.000000  737671.000000  782136.000000  822882.000000  899186.000000   \n22            NaN            NaN            NaN            NaN            NaN   \n\n             2021  \n0       18.920657  \n1       45.192000  \n2       54.808000  \n3    24255.661410  \n4             NaN  \n5             NaN  \n6             NaN  \n7             NaN  \n8             NaN  \n9             NaN  \n10            NaN  \n11   27797.000000  \n12   25713.000000  \n13    2084.000000  \n14    3503.000000  \n15    7283.000000  \n16     664.000000  \n17    3364.000000  \n18       0.000000  \n19    2479.000000  \n20   45090.000000  \n21  944276.000000  \n22            NaN  \n\n[23 rows x 40 columns]",
      "text/html": "<div>\n<style scoped>\n    .dataframe tbody tr th:only-of-type {\n        vertical-align: middle;\n    }\n\n    .dataframe tbody tr th {\n        vertical-align: top;\n    }\n\n    .dataframe thead th {\n        text-align: right;\n    }\n</style>\n<table border=\"1\" class=\"dataframe\">\n  <thead>\n    <tr style=\"text-align: right;\">\n      <th></th>\n      <th>Country name</th>\n      <th>Variable</th>\n      <th>Type</th>\n      <th>Sub-type</th>\n      <th>Fuel</th>\n      <th>Destination</th>\n      <th>Data code</th>\n      <th>Unit</th>\n      <th>1990</th>\n      <th>1991</th>\n      <th>...</th>\n      <th>2012</th>\n      <th>2013</th>\n      <th>2014</th>\n      <th>2015</th>\n      <th>2016</th>\n      <th>2017</th>\n      <th>2018</th>\n      <th>2019</th>\n      <th>2020</th>\n      <th>2021</th>\n    </tr>\n  </thead>\n  <tbody>\n    <tr>\n      <th>0</th>\n      <td>Zambia</td>\n      <td>Population</td>\n      <td>All</td>\n      <td>..</td>\n      <td>..</td>\n      <td>..</td>\n      <td>POP_TOT</td>\n      <td>million people</td>\n      <td>8.036849</td>\n      <td>8.246662</td>\n      <td>...</td>\n      <td>14.465148</td>\n      <td>14.926551</td>\n      <td>15.399793</td>\n      <td>15.87937</td>\n      <td>16.363449</td>\n      <td>16.853608</td>\n      <td>17.351714</td>\n      <td>17.861034</td>\n      <td>18.383956</td>\n      <td>18.920657</td>\n    </tr>\n    <tr>\n      <th>1</th>\n      <td>Zambia</td>\n      <td>Population</td>\n      <td>Urban</td>\n      <td>..</td>\n      <td>..</td>\n      <td>..</td>\n      <td>POP_URB</td>\n      <td>%</td>\n      <td>39.407000</td>\n      <td>38.989000</td>\n      <td>...</td>\n      <td>40.354000</td>\n      <td>40.865000</td>\n      <td>41.382000</td>\n      <td>41.90700</td>\n      <td>42.438000</td>\n      <td>42.976000</td>\n      <td>43.521000</td>\n      <td>44.072000</td>\n      <td>44.629000</td>\n      <td>45.192000</td>\n    </tr>\n    <tr>\n      <th>2</th>\n      <td>Zambia</td>\n      <td>Population</td>\n      <td>Rural</td>\n      <td>..</td>\n      <td>..</td>\n      <td>..</td>\n      <td>POP_RUR</td>\n      <td>%</td>\n      <td>60.593000</td>\n      <td>61.011000</td>\n      <td>...</td>\n      <td>59.646000</td>\n      <td>59.135000</td>\n      <td>58.618000</td>\n      <td>58.09300</td>\n      <td>57.562000</td>\n      <td>57.024000</td>\n      <td>56.479000</td>\n      <td>55.928000</td>\n      <td>55.371000</td>\n      <td>54.808000</td>\n    </tr>\n    <tr>\n      <th>3</th>\n      <td>Zambia</td>\n      <td>GDP</td>\n      <td>All</td>\n      <td>..</td>\n      <td>..</td>\n      <td>..</td>\n      <td>GDP_TOT</td>\n      <td>million USD (2015)</td>\n      <td>6840.844039</td>\n      <td>6838.372211</td>\n      <td>...</td>\n      <td>18772.328030</td>\n      <td>19721.688160</td>\n      <td>20648.211570</td>\n      <td>21251.21680</td>\n      <td>22053.807070</td>\n      <td>22826.646590</td>\n      <td>23747.586260</td>\n      <td>24089.861650</td>\n      <td>23418.945740</td>\n      <td>24255.661410</td>\n    </tr>\n    <tr>\n      <th>4</th>\n      <td>Zambia</td>\n      <td>Passenger activity</td>\n      <td>Road</td>\n      <td>All</td>\n      <td>All</td>\n      <td>All</td>\n      <td>ROAD_PA_MOV</td>\n      <td>million passenger-km</td>\n      <td>NaN</td>\n      <td>NaN</td>\n      <td>...</td>\n      <td>NaN</td>\n      <td>NaN</td>\n      <td>NaN</td>\n      <td>NaN</td>\n      <td>NaN</td>\n      <td>NaN</td>\n      <td>17857.358560</td>\n      <td>NaN</td>\n      <td>NaN</td>\n      <td>NaN</td>\n    </tr>\n    <tr>\n      <th>5</th>\n      <td>Zambia</td>\n      <td>Passenger activity</td>\n      <td>Rail</td>\n      <td>All</td>\n      <td>All</td>\n      <td>All</td>\n      <td>RAIL_PA_TOTAL</td>\n      <td>million passenger-km</td>\n      <td>NaN</td>\n      <td>NaN</td>\n      <td>...</td>\n      <td>NaN</td>\n      <td>NaN</td>\n      <td>NaN</td>\n      <td>NaN</td>\n      <td>NaN</td>\n      <td>NaN</td>\n      <td>0.005819</td>\n      <td>NaN</td>\n      <td>NaN</td>\n      <td>NaN</td>\n    </tr>\n    <tr>\n      <th>6</th>\n      <td>Zambia</td>\n      <td>Passenger activity</td>\n      <td>Aviation</td>\n      <td>All</td>\n      <td>All</td>\n      <td>All</td>\n      <td>AVIA_PAOC</td>\n      <td>million passenger-km</td>\n      <td>NaN</td>\n      <td>NaN</td>\n      <td>...</td>\n      <td>NaN</td>\n      <td>NaN</td>\n      <td>NaN</td>\n      <td>NaN</td>\n      <td>NaN</td>\n      <td>67.974233</td>\n      <td>2.409456</td>\n      <td>NaN</td>\n      <td>NaN</td>\n      <td>NaN</td>\n    </tr>\n    <tr>\n      <th>7</th>\n      <td>Zambia</td>\n      <td>Freight activity</td>\n      <td>Road</td>\n      <td>All</td>\n      <td>All</td>\n      <td>All</td>\n      <td>ROAD_GO_NAT</td>\n      <td>milion ton-km</td>\n      <td>NaN</td>\n      <td>NaN</td>\n      <td>...</td>\n      <td>NaN</td>\n      <td>NaN</td>\n      <td>NaN</td>\n      <td>NaN</td>\n      <td>NaN</td>\n      <td>NaN</td>\n      <td>5234.542507</td>\n      <td>NaN</td>\n      <td>NaN</td>\n      <td>NaN</td>\n    </tr>\n    <tr>\n      <th>8</th>\n      <td>Zambia</td>\n      <td>Freight activity</td>\n      <td>Rail</td>\n      <td>All</td>\n      <td>All</td>\n      <td>All</td>\n      <td>RAIL_GO_TOTAL</td>\n      <td>milion ton-km</td>\n      <td>NaN</td>\n      <td>NaN</td>\n      <td>...</td>\n      <td>NaN</td>\n      <td>NaN</td>\n      <td>NaN</td>\n      <td>NaN</td>\n      <td>NaN</td>\n      <td>NaN</td>\n      <td>1053.158810</td>\n      <td>NaN</td>\n      <td>NaN</td>\n      <td>NaN</td>\n    </tr>\n    <tr>\n      <th>9</th>\n      <td>Zambia</td>\n      <td>Freight activity</td>\n      <td>Aviation</td>\n      <td>All</td>\n      <td>All</td>\n      <td>All</td>\n      <td>AVIA_GONC</td>\n      <td>milion ton-km</td>\n      <td>NaN</td>\n      <td>NaN</td>\n      <td>...</td>\n      <td>NaN</td>\n      <td>NaN</td>\n      <td>NaN</td>\n      <td>NaN</td>\n      <td>NaN</td>\n      <td>81.557610</td>\n      <td>75.077398</td>\n      <td>NaN</td>\n      <td>NaN</td>\n      <td>NaN</td>\n    </tr>\n    <tr>\n      <th>10</th>\n      <td>Zambia</td>\n      <td>Freight activity</td>\n      <td>Inland waterways</td>\n      <td>All</td>\n      <td>All</td>\n      <td>All</td>\n      <td>IWW_GO_NAT</td>\n      <td>milion ton-km</td>\n      <td>NaN</td>\n      <td>NaN</td>\n      <td>...</td>\n      <td>NaN</td>\n      <td>NaN</td>\n      <td>NaN</td>\n      <td>NaN</td>\n      <td>NaN</td>\n      <td>NaN</td>\n      <td>13.315112</td>\n      <td>NaN</td>\n      <td>NaN</td>\n      <td>NaN</td>\n    </tr>\n    <tr>\n      <th>11</th>\n      <td>Zambia</td>\n      <td>Vehicle registrations</td>\n      <td>Road</td>\n      <td>Light Duty Vehicle</td>\n      <td>All</td>\n      <td>All</td>\n      <td>ROAD_STOCK_NEW_LDV</td>\n      <td>n</td>\n      <td>NaN</td>\n      <td>NaN</td>\n      <td>...</td>\n      <td>NaN</td>\n      <td>NaN</td>\n      <td>NaN</td>\n      <td>38960.00000</td>\n      <td>19787.000000</td>\n      <td>25542.000000</td>\n      <td>26827.000000</td>\n      <td>23640.000000</td>\n      <td>18893.000000</td>\n      <td>27797.000000</td>\n    </tr>\n    <tr>\n      <th>12</th>\n      <td>Zambia</td>\n      <td>Vehicle registrations</td>\n      <td>Road</td>\n      <td>Car</td>\n      <td>All</td>\n      <td>All</td>\n      <td>ROAD_STOCK_NEW_CAR</td>\n      <td>n</td>\n      <td>NaN</td>\n      <td>NaN</td>\n      <td>...</td>\n      <td>NaN</td>\n      <td>NaN</td>\n      <td>NaN</td>\n      <td>35192.00000</td>\n      <td>17852.000000</td>\n      <td>22913.000000</td>\n      <td>24044.000000</td>\n      <td>21256.000000</td>\n      <td>17203.000000</td>\n      <td>25713.000000</td>\n    </tr>\n    <tr>\n      <th>13</th>\n      <td>Zambia</td>\n      <td>Vehicle registrations</td>\n      <td>Road</td>\n      <td>Minibus</td>\n      <td>All</td>\n      <td>All</td>\n      <td>ROAD_STOCK_NEW_MINIBUS</td>\n      <td>n</td>\n      <td>NaN</td>\n      <td>NaN</td>\n      <td>...</td>\n      <td>NaN</td>\n      <td>NaN</td>\n      <td>NaN</td>\n      <td>3768.00000</td>\n      <td>1935.000000</td>\n      <td>2629.000000</td>\n      <td>2783.000000</td>\n      <td>2384.000000</td>\n      <td>1690.000000</td>\n      <td>2084.000000</td>\n    </tr>\n    <tr>\n      <th>14</th>\n      <td>Zambia</td>\n      <td>Vehicle registrations</td>\n      <td>Road</td>\n      <td>Van</td>\n      <td>All</td>\n      <td>All</td>\n      <td>ROAD_STOCK_NEW_VAN</td>\n      <td>n</td>\n      <td>NaN</td>\n      <td>NaN</td>\n      <td>...</td>\n      <td>NaN</td>\n      <td>NaN</td>\n      <td>NaN</td>\n      <td>5697.00000</td>\n      <td>4358.000000</td>\n      <td>4695.000000</td>\n      <td>4825.000000</td>\n      <td>3422.000000</td>\n      <td>2612.000000</td>\n      <td>3503.000000</td>\n    </tr>\n    <tr>\n      <th>15</th>\n      <td>Zambia</td>\n      <td>Vehicle registrations</td>\n      <td>Road</td>\n      <td>Truck</td>\n      <td>All</td>\n      <td>All</td>\n      <td>ROAD_STOCK_NEW_TRUCK</td>\n      <td>n</td>\n      <td>NaN</td>\n      <td>NaN</td>\n      <td>...</td>\n      <td>NaN</td>\n      <td>NaN</td>\n      <td>NaN</td>\n      <td>6040.00000</td>\n      <td>3854.000000</td>\n      <td>5597.000000</td>\n      <td>8189.000000</td>\n      <td>6999.000000</td>\n      <td>5615.000000</td>\n      <td>7283.000000</td>\n    </tr>\n    <tr>\n      <th>16</th>\n      <td>Zambia</td>\n      <td>Vehicle registrations</td>\n      <td>Road</td>\n      <td>Bus</td>\n      <td>All</td>\n      <td>All</td>\n      <td>ROAD_STOCK_NEW_BUS</td>\n      <td>n</td>\n      <td>NaN</td>\n      <td>NaN</td>\n      <td>...</td>\n      <td>NaN</td>\n      <td>NaN</td>\n      <td>NaN</td>\n      <td>650.00000</td>\n      <td>514.000000</td>\n      <td>727.000000</td>\n      <td>861.000000</td>\n      <td>836.000000</td>\n      <td>483.000000</td>\n      <td>664.000000</td>\n    </tr>\n    <tr>\n      <th>17</th>\n      <td>Zambia</td>\n      <td>Vehicle registrations</td>\n      <td>Road</td>\n      <td>Motorcycle</td>\n      <td>All</td>\n      <td>All</td>\n      <td>ROAD_STOCK_NEW_MOTO</td>\n      <td>n</td>\n      <td>NaN</td>\n      <td>NaN</td>\n      <td>...</td>\n      <td>NaN</td>\n      <td>NaN</td>\n      <td>NaN</td>\n      <td>2681.00000</td>\n      <td>2597.000000</td>\n      <td>1908.000000</td>\n      <td>2245.000000</td>\n      <td>2634.000000</td>\n      <td>2290.000000</td>\n      <td>3364.000000</td>\n    </tr>\n    <tr>\n      <th>18</th>\n      <td>Zambia</td>\n      <td>Vehicle registrations</td>\n      <td>Road</td>\n      <td>Agricultural and forestry tractors</td>\n      <td>All</td>\n      <td>All</td>\n      <td>ROAD_STOCK_NEW_AGRI</td>\n      <td>n</td>\n      <td>NaN</td>\n      <td>NaN</td>\n      <td>...</td>\n      <td>NaN</td>\n      <td>NaN</td>\n      <td>NaN</td>\n      <td>7.00000</td>\n      <td>4.000000</td>\n      <td>6.000000</td>\n      <td>1.000000</td>\n      <td>0.000000</td>\n      <td>0.000000</td>\n      <td>0.000000</td>\n    </tr>\n    <tr>\n      <th>19</th>\n      <td>Zambia</td>\n      <td>Vehicle registrations</td>\n      <td>Road</td>\n      <td>Trailer</td>\n      <td>All</td>\n      <td>All</td>\n      <td>ROAD_STOCK_NEW_TRAILER</td>\n      <td>n</td>\n      <td>NaN</td>\n      <td>NaN</td>\n      <td>...</td>\n      <td>NaN</td>\n      <td>NaN</td>\n      <td>NaN</td>\n      <td>2243.00000</td>\n      <td>1585.000000</td>\n      <td>1066.000000</td>\n      <td>2074.000000</td>\n      <td>2228.000000</td>\n      <td>1651.000000</td>\n      <td>2479.000000</td>\n    </tr>\n    <tr>\n      <th>20</th>\n      <td>Zambia</td>\n      <td>Vehicle registrations</td>\n      <td>Road</td>\n      <td>All</td>\n      <td>All</td>\n      <td>All</td>\n      <td>ROAD_STOCK_NEW_ALL</td>\n      <td>n</td>\n      <td>NaN</td>\n      <td>NaN</td>\n      <td>...</td>\n      <td>NaN</td>\n      <td>NaN</td>\n      <td>NaN</td>\n      <td>56278.00000</td>\n      <td>32699.000000</td>\n      <td>39541.000000</td>\n      <td>45022.000000</td>\n      <td>39759.000000</td>\n      <td>31544.000000</td>\n      <td>45090.000000</td>\n    </tr>\n    <tr>\n      <th>21</th>\n      <td>Zambia</td>\n      <td>Vehicle stock</td>\n      <td>Road</td>\n      <td>All</td>\n      <td>All</td>\n      <td>All</td>\n      <td>ROAD_STOCK_CUM_ALL</td>\n      <td>n</td>\n      <td>NaN</td>\n      <td>NaN</td>\n      <td>...</td>\n      <td>528584.000000</td>\n      <td>534523.000000</td>\n      <td>605043.000000</td>\n      <td>661617.00000</td>\n      <td>686103.000000</td>\n      <td>737671.000000</td>\n      <td>782136.000000</td>\n      <td>822882.000000</td>\n      <td>899186.000000</td>\n      <td>944276.000000</td>\n    </tr>\n    <tr>\n      <th>22</th>\n      <td>NaN</td>\n      <td>NaN</td>\n      <td>NaN</td>\n      <td>NaN</td>\n      <td>NaN</td>\n      <td>NaN</td>\n      <td>NaN</td>\n      <td>NaN</td>\n      <td>NaN</td>\n      <td>NaN</td>\n      <td>...</td>\n      <td>NaN</td>\n      <td>NaN</td>\n      <td>NaN</td>\n      <td>NaN</td>\n      <td>NaN</td>\n      <td>NaN</td>\n      <td>NaN</td>\n      <td>NaN</td>\n      <td>NaN</td>\n      <td>NaN</td>\n    </tr>\n  </tbody>\n</table>\n<p>23 rows × 40 columns</p>\n</div>"
     },
     "execution_count": 4,
     "metadata": {},
     "output_type": "execute_result"
    }
   ],
   "source": [
    "df = return_country_data(country='zambia')\n",
    "df"
   ],
   "metadata": {
    "collapsed": false,
    "ExecuteTime": {
     "end_time": "2024-07-26T11:33:53.442712900Z",
     "start_time": "2024-07-26T11:33:53.365471600Z"
    }
   },
   "id": "45240cf8767ab83c"
  },
  {
   "cell_type": "code",
   "execution_count": null,
   "outputs": [],
   "source": [
    "# TODO: make a function that produces updated stock of cars, trucks, ..., per year.\n",
    "# note: something does already exist in the TDSK."
   ],
   "metadata": {
    "collapsed": false
   },
   "id": "847819639318cddf"
  }
 ],
 "metadata": {
  "kernelspec": {
   "display_name": "Python 3",
   "language": "python",
   "name": "python3"
  },
  "language_info": {
   "codemirror_mode": {
    "name": "ipython",
    "version": 2
   },
   "file_extension": ".py",
   "mimetype": "text/x-python",
   "name": "python",
   "nbconvert_exporter": "python",
   "pygments_lexer": "ipython2",
   "version": "2.7.6"
  }
 },
 "nbformat": 4,
 "nbformat_minor": 5
}
